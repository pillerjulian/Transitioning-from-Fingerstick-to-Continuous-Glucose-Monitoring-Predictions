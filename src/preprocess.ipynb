{
 "cells": [
  {
   "cell_type": "code",
   "execution_count": 1,
   "id": "0e41095a",
   "metadata": {},
   "outputs": [],
   "source": [
    "import pandas as pd\n",
    "import os"
   ]
  },
  {
   "cell_type": "code",
   "execution_count": 23,
   "id": "d18233f2",
   "metadata": {},
   "outputs": [
    {
     "name": "stdout",
     "output_type": "stream",
     "text": [
      "C:\\UniBern\\DataDrivenDiabetes\\Transitioning-from-Fingerstick-to-Continuous-Glucose-Monitoring-Predictions\n",
      "C:\\UniBern\\DataDrivenDiabetes\\Transitioning-from-Fingerstick-to-Continuous-Glucose-Monitoring-Predictions\\dataset\\Ohio2020_processed\\train\n"
     ]
    }
   ],
   "source": [
    "# Get the current working directory\n",
    "current_directory = os.getcwd()\n",
    "# Go one step up from the current directory\n",
    "parent_directory = os.path.dirname(current_directory)\n",
    "print(parent_directory)\n",
    "\n",
    "target_directory = os.path.join(parent_directory, 'dataset', 'Ohio2020_processed', 'train')\n",
    "print(target_directory)"
   ]
  },
  {
   "cell_type": "markdown",
   "id": "33d363d4",
   "metadata": {},
   "source": [
    "# Testing what Preprocessing we want to do"
   ]
  },
  {
   "cell_type": "code",
   "execution_count": 40,
   "id": "53cb1ea0",
   "metadata": {},
   "outputs": [],
   "source": [
    "# Load a patient to test the preprocessing techniques \n",
    "file_name= \"540-ws-training_processed.csv\"\n",
    "file_path = os.path.join(target_directory, file_name)\n",
    "\n",
    "patient = pd.read_csv(file_path)"
   ]
  },
  {
   "cell_type": "code",
   "execution_count": 48,
   "id": "9c56bf8d",
   "metadata": {},
   "outputs": [
    {
     "name": "stdout",
     "output_type": "stream",
     "text": [
      "Number of 0s in 'finger' column: 0\n",
      "Number of NaNs in 'finger' column: 12561\n",
      "Number of non-zero values in 'finger' column: 548\n"
     ]
    }
   ],
   "source": [
    "# In the patient '540' from the 'Ohio2020_processed', there are 'finger' 141 values of 0, for this I think we can\n",
    "# copy the value from the cbg. There may be other patients from train or test that also have 0, for all of these apply the copy\n",
    "\n",
    "zeros_count = (patient['finger'] == 0).sum()\n",
    "nan_count = patient['finger'].isna().sum()\n",
    "non_zero_count = patient['finger'].count() - zeros_count\n",
    "\n",
    "print(f\"Number of 0s in 'finger' column: {zeros_count}\")\n",
    "print(f\"Number of NaNs in 'finger' column: {nan_count}\")\n",
    "print(f\"Number of non-zero values in 'finger' column: {non_zero_count}\")"
   ]
  },
  {
   "cell_type": "code",
   "execution_count": 49,
   "id": "be79e366",
   "metadata": {},
   "outputs": [
    {
     "name": "stdout",
     "output_type": "stream",
     "text": [
      "Number of 0s in 'finger' column: 0\n",
      "Number of NaNs in 'finger' column: 12561\n",
      "Number of non-zero values in 'finger' column: 548\n"
     ]
    }
   ],
   "source": [
    "# Replace 0 values in 'finger' with corresponding values from 'cbg'\n",
    "patient.loc[patient['finger'] == 0, 'finger'] = patient['cbg']\n",
    "\n",
    "zeros_count = (patient['finger'] == 0).sum()\n",
    "nan_count = patient['finger'].isna().sum()\n",
    "non_zero_count = patient['finger'].count() - zeros_count\n",
    "\n",
    "print(f\"Number of 0s in 'finger' column: {zeros_count}\")\n",
    "print(f\"Number of NaNs in 'finger' column: {nan_count}\")\n",
    "print(f\"Number of non-zero values in 'finger' column: {non_zero_count}\")"
   ]
  },
  {
   "cell_type": "code",
   "execution_count": 51,
   "id": "1a2eda0e",
   "metadata": {},
   "outputs": [
    {
     "name": "stdout",
     "output_type": "stream",
     "text": [
      "Number of non-Missing 'cbg' values: 11946\n",
      "Number of Missing 'cbg' values: 1163\n"
     ]
    }
   ],
   "source": [
    "# Lets see how to handle the missing 'cbg', I am thinking linear interpolation or should we just cut the rows without?\n",
    "zeros_count = (patient['missing_cbg'] == 0).sum()\n",
    "missing_count = (patient['missing_cbg'] == 1).sum()\n",
    "\n",
    "print(f\"Number of non-Missing 'cbg' values: {zeros_count}\")\n",
    "print(f\"Number of Missing 'cbg' values: {ones_count}\")\n",
    "\n",
    "## to be continued..."
   ]
  },
  {
   "cell_type": "markdown",
   "id": "68a3bf3c",
   "metadata": {},
   "source": [
    "## Here is the preprocess function that we can add to our source after"
   ]
  },
  {
   "cell_type": "code",
   "execution_count": null,
   "id": "c99f79ac",
   "metadata": {},
   "outputs": [],
   "source": [
    "def preprocess_data(data):\n",
    "    # Replace any 0 values in 'finger' with corresponding values from 'cbg'\n",
    "    patient.loc[patient['finger'] == 0, 'finger'] = patient['cbg']"
   ]
  }
 ],
 "metadata": {
  "kernelspec": {
   "display_name": "Python 3 (ipykernel)",
   "language": "python",
   "name": "python3"
  },
  "language_info": {
   "codemirror_mode": {
    "name": "ipython",
    "version": 3
   },
   "file_extension": ".py",
   "mimetype": "text/x-python",
   "name": "python",
   "nbconvert_exporter": "python",
   "pygments_lexer": "ipython3",
   "version": "3.9.12"
  }
 },
 "nbformat": 4,
 "nbformat_minor": 5
}
