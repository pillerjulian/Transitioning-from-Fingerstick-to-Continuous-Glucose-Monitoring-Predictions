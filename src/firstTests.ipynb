{
 "cells": [
  {
   "cell_type": "markdown",
   "id": "f3304bbb",
   "metadata": {},
   "source": [
    "### First Test \n",
    "I want to break free, I want to break free\n",
    "I want to break free from your lies\n",
    "You're so self-satisfied I don't need you\n",
    "I've got to break free\n",
    "God knows, God knows I want to break free"
   ]
  },
  {
   "cell_type": "code",
   "execution_count": null,
   "id": "6c927f61",
   "metadata": {},
   "outputs": [],
   "source": []
  }
 ],
 "metadata": {
  "kernelspec": {
   "display_name": "Python 3 (ipykernel)",
   "language": "python",
   "name": "python3"
  },
  "language_info": {
   "codemirror_mode": {
    "name": "ipython",
    "version": 3
   },
   "file_extension": ".py",
   "mimetype": "text/x-python",
   "name": "python",
   "nbconvert_exporter": "python",
   "pygments_lexer": "ipython3",
   "version": "3.9.12"
  }
 },
 "nbformat": 4,
 "nbformat_minor": 5
}
