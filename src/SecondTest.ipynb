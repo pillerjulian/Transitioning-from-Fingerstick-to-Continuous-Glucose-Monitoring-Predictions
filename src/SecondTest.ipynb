{
 "cells": [
  {
   "cell_type": "markdown",
   "id": "1eed549a-f26a-4b91-9520-b72c74b69055",
   "metadata": {},
   "source": [
    "This is simply a test file"
   ]
  },
  {
   "cell_type": "code",
   "execution_count": null,
   "id": "47f1f03b-2dcd-4bfc-9d30-4d01fcce5cc5",
   "metadata": {},
   "outputs": [],
   "source": [
    "print(\"Let's do this!\")"
   ]
  }
 ],
 "metadata": {
  "kernelspec": {
   "display_name": "Python 3 (ipykernel)",
   "language": "python",
   "name": "python3"
  },
  "language_info": {
   "codemirror_mode": {
    "name": "ipython",
    "version": 3
   },
   "file_extension": ".py",
   "mimetype": "text/x-python",
   "name": "python",
   "nbconvert_exporter": "python",
   "pygments_lexer": "ipython3",
   "version": "3.11.4"
  }
 },
 "nbformat": 4,
 "nbformat_minor": 5
}
