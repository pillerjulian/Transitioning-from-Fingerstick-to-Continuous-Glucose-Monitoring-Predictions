{
 "cells": [
  {
   "cell_type": "markdown",
   "id": "d0a67154-0c79-403d-9fd0-dbc254fbcad6",
   "metadata": {},
   "source": [
    "This is a Test Jupyter Notebook"
   ]
  },
  {
   "cell_type": "code",
   "execution_count": null,
   "id": "ed18c86e-74d1-40c1-b9dd-b8914920a111",
   "metadata": {},
   "outputs": [],
   "source": [
    "print(\"Everything works!!\")"
   ]
  }
 ],
 "metadata": {
  "kernelspec": {
   "display_name": "Python 3 (ipykernel)",
   "language": "python",
   "name": "python3"
  },
  "language_info": {
   "codemirror_mode": {
    "name": "ipython",
    "version": 3
   },
   "file_extension": ".py",
   "mimetype": "text/x-python",
   "name": "python",
   "nbconvert_exporter": "python",
   "pygments_lexer": "ipython3",
   "version": "3.11.4"
  }
 },
 "nbformat": 4,
 "nbformat_minor": 5
}
